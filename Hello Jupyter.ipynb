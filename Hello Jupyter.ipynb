{
 "cells": [
  {
   "cell_type": "code",
   "execution_count": 2,
   "metadata": {},
   "outputs": [
    {
     "name": "stdout",
     "output_type": "stream",
     "text": [
      "Hello Jupyter!\n"
     ]
    }
   ],
   "source": [
    "print(\"Hello Jupyter!\")"
   ]
  },
  {
   "cell_type": "code",
   "execution_count": 4,
   "metadata": {},
   "outputs": [
    {
     "name": "stdout",
     "output_type": "stream",
     "text": [
      "Exact value\n",
      "In order to get the exact value, in arraySum[] we are initiliazing an empty with a given size. Since we have 6 values we are trying to obtain, arraySum[] is initilizing all the 6 spaces with 0's.As the for loop goes through all the indexes 3 - 9, it performs an operation to get the sum. It is multiplying 10^i value with square root of 19. These actual sums will be used to compare the relative and absolute error.\n",
      "When N = 10^3 Exact Sum = 4358.898943540674\n",
      "When N = 10^4 Exact Sum = 43588.98943540674\n",
      "When N = 10^5 Exact Sum = 435889.8943540674\n",
      "When N = 10^6 Exact Sum = 4358898.943540674\n",
      "When N = 10^7 Exact Sum = 43588989.43540674\n",
      "When N = 10^8 Exact Sum = 435889894.3540674\n",
      "\n",
      " Naive Summation:\n",
      "N = 10 ^ 3\n",
      "\t s = 4358.898943540652  Elapsed time: 0.00023293495178222656 secs  Absolute error: 2.1827872842550278e-11  Relative error: 5.007657467006977e-15\n",
      "N = 10 ^ 4\n",
      "\t s = 43588.98943540103  Elapsed time: 0.002315998077392578 secs  Absolute error: 5.704350769519806e-09  Relative error: 1.30866781804449e-13\n",
      "N = 10 ^ 5\n",
      "\t s = 435889.8943536333  Elapsed time: 0.0158231258392334 secs  Absolute error: 4.341127350926399e-07  Relative error: 9.959229170383476e-13\n",
      "N = 10 ^ 6\n",
      "\t s = 4358898.943627511  Elapsed time: 0.11257410049438477 secs  Absolute error: 8.683744817972183e-05  Relative error: 1.9921876901597763e-11\n",
      "N = 10 ^ 7\n",
      "\t s = 43588989.44469575  Elapsed time: 1.0852508544921875 secs  Absolute error: 0.009289011359214783  Relative error: 2.1310453579062438e-10\n",
      "N = 10 ^ 8\n",
      "\t s = 435889893.87809396  Elapsed time: 10.84610390663147 secs  Absolute error: 0.4759734272956848  Relative error: 1.09195793125926e-09\n",
      "\n",
      "Compensated Summation\n",
      "N = 10 ^ 3\n",
      "\t s = 4358.898943540674  Elapsed time: 0.00017714500427246094 secs  Absolute error: 0.0  Relative error: 0.0\n",
      "N = 10 ^ 4\n",
      "\t s = 43588.98943540674  Elapsed time: 0.0019109249114990234 secs  Absolute error: 0.0  Relative error: 0.0\n",
      "N = 10 ^ 5\n",
      "\t s = 435889.8943540674  Elapsed time: 0.019505023956298828 secs  Absolute error: 0.0  Relative error: 0.0\n",
      "N = 10 ^ 6\n",
      "\t s = 4358898.943540674  Elapsed time: 0.20043587684631348 secs  Absolute error: 0.0  Relative error: 0.0\n",
      "N = 10 ^ 7\n",
      "\t s = 43588989.43540674  Elapsed time: 1.8831710815429688 secs  Absolute error: 0.0  Relative error: 0.0\n",
      "N = 10 ^ 8\n",
      "\t s = 435889894.3540674  Elapsed time: 20.28515100479126 secs  Absolute error: 0.0  Relative error: 0.0\n"
     ]
    }
   ],
   "source": [
    "import time \n",
    "import math \n",
    "\n",
    "print(\"Exact value\")\n",
    "\n",
    "print(\"In order to get the exact value, in arraySum[] we are initiliazing an empty with a given size. Since we have 6 values we are trying to obtain, arraySum[] is initilizing all the 6 spaces with 0's.As the for loop goes through all the indexes 3 - 9, it performs an operation to get the sum. It is multiplying 10^i value with square root of 19. These actual sums will be used to compare the relative and absolute error.\") \n",
    "\n",
    "exactSum = [0] * 6\n",
    "for i in range(3, 9):          \n",
    "    N = pow (10, i)\n",
    "    exactSum[i-6] = N * math.sqrt(19.0)\n",
    "    print('When N = 10^{} Exact Sum = {}'.format(i, exactSum[i-6]))\n",
    "    \n",
    "#Naive summation \n",
    "print('\\n Naive Summation:')\n",
    "def naiveSum(power):\n",
    "    N = pow(10, power)\n",
    "    s = 0\n",
    "    start_time = time.time()\n",
    "    for i in range(0, N):\n",
    "        s += math.sqrt(19.0)\n",
    "    end_time = time.time()\n",
    "    elapsed_time = end_time - start_time\n",
    "    index = power - 6 \n",
    "    relativeError = abs((s-exactSum[index]) / exactSum[index])\n",
    "    absError = abs(s - exactSum[index])\n",
    "    print('N = 10 ^ {}\\n\\t s = {}  Elapsed time: {} secs  Absolute error: {}  Relative error: {}'.format(index +6, s, elapsed_time, absError, relativeError))\n",
    "for  i in range(3, 9):\n",
    "    naiveSum(i)\n",
    "  \n",
    "\n",
    "#Compensated Summation \n",
    "print(\"\\nCompensated Summation\")\n",
    "\n",
    "def compensatedSum(power):\n",
    "      N = pow(10, power)\n",
    "      s = 0\n",
    "      e = 0\n",
    "      start_time = time.time()\n",
    "      for i in range (0, N):\n",
    "          temp = s\n",
    "          y = math.sqrt(19.0) + e\n",
    "          s = temp + y\n",
    "          e = (temp -s) + y\n",
    "          s += e\n",
    "      end_time = time.time()\n",
    "      elapsed_time = end_time - start_time \n",
    "      index = power - 6\n",
    "      relativeError = abs((s-exactSum[index]) / exactSum[index])\n",
    "      absError = abs(s - exactSum[index])\n",
    "      print('N = 10 ^ {}\\n\\t s = {}  Elapsed time: {} secs  Absolute error: {}  Relative error: {}'.format(index +6, s, elapsed_time, absError, relativeError))\n",
    "for  i in range(3, 9):\n",
    "    compensatedSum(i)\n",
    "    \n",
    "      \n",
    "    "
   ]
  },
  {
   "cell_type": "markdown",
   "metadata": {},
   "source": [
    "# Naive Summation\n",
    "|N|Summation|Exact Value|Elapsed Time(s)|Absolute Error|Relative Error|\n",
    "|-|---------|-----------|---------------|--------------|--------------|\n",
    "|10^3|4358.898943540652|4358.898943540674|0.00012230873107910156|2.1827872842550278e-11|5.007657467006977e-15|\n",
    "|10^4|43588.98943540103|43588.98943540674|.0014710426330566406|5.704350769519806e-09|1.30866781804449e-13|\n",
    "|10^5|435889.8943536333|435889.8943540674|0.022168874740600586|4.341127350926399e-07|9.959229170383476e-13|\n",
    "|10^6|4358898.943627511|4358898.943540674|0.14548110961914062|8.683744817972183e-05|1.9921876901597763e-11|\n",
    "|10^7|43588989.44469575|43588989.43540674|.2897469997406006|0.009289011359214783|2.1310453579062438e-10|\n",
    "|10^8|435889893.87809396|435889894.3540674|11.983985185623169|0.4759734272956848|1.09195793125926e-09|"
   ]
  },
  {
   "cell_type": "markdown",
   "metadata": {},
   "source": [
    "# Compensation Summation\n",
    "|N|Summation|Exact Value|Elapsed Time(s)|Absolute Error|Relative Error|\n",
    "|-|---------|-----------|---------------|--------------|--------------|\n",
    "|10^3|4358.898943540674|4358.898943540674|0.0001761913299560547|0.0|0.0|\n",
    "|10^4|43588.98943540674|43588.98943540674|0.0017557144165039062 |0.0|0.0|\n",
    "|10^5|435889.8943540674|435889.8943540674|0.019221067428588867|0.0|0.0|\n",
    "|10^6|4358898.943540674|4358898.943540674|.1832139492034912 |0.0|0.0|\n",
    "|10^7|43588989.43540674|43588989.43540674|1.9347419738769531|0.0|0.0|\n",
    "|10^8|435889894.3540674|435889894.3540674|20.13253402709961|0.0|0.0|"
   ]
  },
  {
   "cell_type": "markdown",
   "metadata": {},
   "source": [
    "The code above is calculating summation using two method, naive summation and compensated summation. The table compsres the values for each sumamtion.In summary, the naive summation values were far off than the exact value. As a result the absolute and relative errors values were bigger in number. On the other hand, the compensated summation methods summation was exactly the same as the exact values causing the absulute and relative errors to be zero all thoughout the 6 computations, 10^3, 10^4, 10^5, 10^6, 10^7, 10^7, 10^8. Since compensation summation is a recursive summation it was designed to diminish rounding errors. The correction term e is added to s before the next sum is added. As we discussed in class, the rounded floating-point arithmetic in base 2, e aka the correction term represents the error exactly. Additionally, the elapsed time for compensation summation took longer than naive summation because compensation summation is a recursive summation with a correction term, so it takes longer but with more accurate results.\n",
    "\n",
    "\n",
    "Note: Running time may differ everytime the program is ran. The markdown tables presented here are data based on my past run. Though the elapsed time may differ by a few nanoseconds, the absolute and relative error are the same in all the outputs."
   ]
  },
  {
   "cell_type": "code",
   "execution_count": null,
   "metadata": {},
   "outputs": [],
   "source": []
  }
 ],
 "metadata": {
  "kernelspec": {
   "display_name": "Python 3",
   "language": "python",
   "name": "python3"
  },
  "language_info": {
   "codemirror_mode": {
    "name": "ipython",
    "version": 3
   },
   "file_extension": ".py",
   "mimetype": "text/x-python",
   "name": "python",
   "nbconvert_exporter": "python",
   "pygments_lexer": "ipython3",
   "version": "3.8.5"
  }
 },
 "nbformat": 4,
 "nbformat_minor": 4
}
